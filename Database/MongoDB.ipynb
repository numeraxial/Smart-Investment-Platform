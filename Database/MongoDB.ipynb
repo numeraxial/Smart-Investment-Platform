{
 "cells": [
  {
   "cell_type": "code",
   "execution_count": 4,
   "id": "44a69631",
   "metadata": {},
   "outputs": [],
   "source": [
    "# Libraries\n",
    "\n",
    "import pandas as pd\n",
    "import finviz # Finviz API to get Stock data\n",
    "from finviz.screener import Screener # Finviz API to get stock screener information\n",
    "from pymongo import MongoClient # MongoClient to connect to MongoDB\n",
    "from pprint import pprint\n"
   ]
  },
  {
   "cell_type": "code",
   "execution_count": 5,
   "id": "4411231d",
   "metadata": {},
   "outputs": [],
   "source": [
    "class Finviz:\n",
    "    def __init__(self,host,port):\n",
    "        self.client = MongoClient(host,port)\n",
    "        self.db = self.client.numeraxial\n",
    "        self.collections = self.db.list_collection_names()\n",
    "        self.collection_name = self.db.stock\n",
    "        \n",
    "    def get_all_stock(self):\n",
    "        self.stock_list = Screener()\n",
    "        self.stock_list.to_csv('finviz_stocks_list.csv')\n",
    "    def get_all_ticker(self):\n",
    "        self.df = pd.read_csv(\"finviz_stocks_list.csv\")\n",
    "        self.tickers = self.df['Ticker'].tolist()\n",
    "        self.companies = self.df['Company'].tolist()\n",
    "    def get_stock_info(self, ticker, index):\n",
    "        stock = finviz.get_stock(ticker)\n",
    "        entry={}\n",
    "        entry['Symbol'] = ticker\n",
    "        entry['Name'] = self.companies[index]\n",
    "        entry['Sector'] = stock['Sector']\n",
    "        entry['Industry'] = stock['Industry']\n",
    "        entry['Price'] = stock['Price']\n",
    "        entry['Prev Close'] = stock['Prev Close']\n",
    "        entry['Change'] = stock['Change']\n",
    "        entry['Market Cap'] = stock['Market Cap']\n",
    "        entry['P/E'] = stock['P/E']\n",
    "        entry['Volume'] = stock['Volume']\n",
    "        entry['ROE'] = stock['ROE']\n",
    "        entry['ROA'] = stock['ROA']\n",
    "        entry['Dividend'] = stock['Dividend']\n",
    "        entry['EPS this Y'] = stock['EPS this Y']\n",
    "        entry['52W High'] = stock['52W High']\n",
    "        entry['52W Low'] = stock['52W Low']\n",
    "        return entry\n",
    "    def get_stocks_info(self):\n",
    "        self.get_all_stock()\n",
    "        self.get_all_ticker()\n",
    "        for index in range(len(self.tickers)):\n",
    "            entry = self.get_stock_info(self.tickers[index], index)\n",
    "            self.collection_name.update_one({'Symbol': entry['Symbol']}, {\"$set\": entry}, True)\n",
    "    \n",
    "        \n",
    "        "
   ]
  },
  {
   "cell_type": "code",
   "execution_count": 6,
   "id": "e9e83b61",
   "metadata": {},
   "outputs": [
    {
     "name": "stderr",
     "output_type": "stream",
     "text": [
      "100%|██████████| 414/414 [02:02<00:00,  3.38it/s]\n"
     ]
    }
   ],
   "source": [
    "fz = Finviz('localhost',27017)\n",
    "fz.get_stocks_info()"
   ]
  },
  {
   "cell_type": "code",
   "execution_count": null,
   "id": "cb58fedc",
   "metadata": {},
   "outputs": [],
   "source": []
  },
  {
   "cell_type": "code",
   "execution_count": null,
   "id": "d3f631c4",
   "metadata": {},
   "outputs": [],
   "source": []
  }
 ],
 "metadata": {
  "kernelspec": {
   "display_name": "Python 3",
   "language": "python",
   "name": "python3"
  },
  "language_info": {
   "codemirror_mode": {
    "name": "ipython",
    "version": 3
   },
   "file_extension": ".py",
   "mimetype": "text/x-python",
   "name": "python",
   "nbconvert_exporter": "python",
   "pygments_lexer": "ipython3",
   "version": "3.8.8"
  }
 },
 "nbformat": 4,
 "nbformat_minor": 5
}
