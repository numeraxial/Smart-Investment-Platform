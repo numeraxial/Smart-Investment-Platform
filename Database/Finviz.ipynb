{
 "cells": [
  {
   "cell_type": "code",
   "execution_count": 1,
   "id": "da344804",
   "metadata": {},
   "outputs": [
    {
     "name": "stderr",
     "output_type": "stream",
     "text": [
      "100%|██████████| 414/414 [02:02<00:00,  3.37it/s]"
     ]
    },
    {
     "name": "stdout",
     "output_type": "stream",
     "text": [
      "<class 'finviz.screener.Screener'>\n"
     ]
    },
    {
     "name": "stderr",
     "output_type": "stream",
     "text": [
      "\n"
     ]
    }
   ],
   "source": [
    "from finviz.screener import Screener \n",
    "from pprint import pprint\n",
    "\n",
    "stock_list = Screener()\n",
    "print(type(stock_list))\n",
    "# stock_list.to_csv('finviz_stocks_list.csv')"
   ]
  },
  {
   "cell_type": "code",
   "execution_count": null,
   "id": "6453ae02",
   "metadata": {},
   "outputs": [],
   "source": []
  },
  {
   "cell_type": "code",
   "execution_count": 19,
   "id": "a5f93ed0",
   "metadata": {},
   "outputs": [
    {
     "name": "stdout",
     "output_type": "stream",
     "text": [
      "{'52W High': '-10.68%',\n",
      " '52W Low': '6.23%',\n",
      " '52W Range': '16.69 - 19.85',\n",
      " 'ATR': '0.15',\n",
      " 'Avg Volume': '334.17K',\n",
      " 'Beta': '-',\n",
      " 'Book/sh': '-',\n",
      " 'Cash/sh': '-',\n",
      " 'Change': '0.11%',\n",
      " 'Company': 'Financial',\n",
      " 'Current Ratio': '-',\n",
      " 'Debt/Eq': '-',\n",
      " 'Dividend': '-',\n",
      " 'Dividend %': '-',\n",
      " 'EPS (ttm)': '-',\n",
      " 'EPS Q/Q': '-',\n",
      " 'EPS next 5Y': '-',\n",
      " 'EPS next Q': '-',\n",
      " 'EPS next Y': '-',\n",
      " 'EPS past 5Y': '-',\n",
      " 'EPS this Y': '-',\n",
      " 'Earnings': '-',\n",
      " 'Employees': '-',\n",
      " 'Forward P/E': '-',\n",
      " 'Gross Margin': '-',\n",
      " 'Income': '-',\n",
      " 'Index': '-',\n",
      " 'Industry': 'USA',\n",
      " 'Insider Own': '-',\n",
      " 'Insider Trans': '-',\n",
      " 'Inst Own': '-',\n",
      " 'Inst Trans': '-',\n",
      " 'LT Debt/Eq': '-',\n",
      " 'Market Cap': '-',\n",
      " 'Oper. Margin': '-',\n",
      " 'Optionable': 'No',\n",
      " 'P/B': '-',\n",
      " 'P/C': '-',\n",
      " 'P/E': '-',\n",
      " 'P/FCF': '-',\n",
      " 'P/S': '-',\n",
      " 'PEG': '-',\n",
      " 'Payout': '-',\n",
      " 'Perf Half Y': '-1.50%',\n",
      " 'Perf Month': '-1.39%',\n",
      " 'Perf Quarter': '-5.19%',\n",
      " 'Perf Week': '0.23%',\n",
      " 'Perf YTD': '-6.39%',\n",
      " 'Perf Year': '-8.89%',\n",
      " 'Prev Close': '17.71',\n",
      " 'Price': '17.73',\n",
      " 'Profit Margin': '-',\n",
      " 'Quick Ratio': '-',\n",
      " 'ROA': '-',\n",
      " 'ROE': '-',\n",
      " 'ROI': '-',\n",
      " 'RSI (14)': '47.75',\n",
      " 'Recom': '-',\n",
      " 'Rel Volume': '0.41',\n",
      " 'SMA20': '-0.26%',\n",
      " 'SMA200': '-1.83%',\n",
      " 'SMA50': '-0.87%',\n",
      " 'Sales': '-',\n",
      " 'Sales Q/Q': '-',\n",
      " 'Sales past 5Y': '-',\n",
      " 'Sector': 'Exchange Traded Fund',\n",
      " 'Short Float': '-',\n",
      " 'Short Ratio': '-',\n",
      " 'Shortable': 'Yes',\n",
      " 'Shs Float': '-',\n",
      " 'Shs Outstand': '-',\n",
      " 'Target Price': '-',\n",
      " 'Volatility': '0.57% 0.71%',\n",
      " 'Volume': '135,827'}\n",
      "-\n",
      "-\n",
      "135,827\n",
      "-\n",
      "-\n",
      "-\n",
      "-\n",
      "17.73\n",
      "-10.68%\n",
      "6.23%\n"
     ]
    }
   ],
   "source": [
    "import finviz\n",
    "from pprint import pprint\n",
    "\n",
    "stock = finviz.get_stock('AHCH')\n",
    "pprint(stock)\n",
    "print(stock['Market Cap'])\n",
    "print(stock['P/E'])\n",
    "print(stock['Volume'])\n",
    "print(stock['ROE'])\n",
    "print(stock['Dividend'])\n",
    "print(stock['ROA'])\n",
    "print(stock['EPS this Y'])\n",
    "print(stock['Price'])\n",
    "print(stock['52W High'])\n",
    "print(stock['52W Low'])"
   ]
  },
  {
   "cell_type": "code",
   "execution_count": null,
   "id": "e563833b",
   "metadata": {},
   "outputs": [],
   "source": [
    "    MarketCap\n",
    "    PE\n",
    "    Open\n",
    "    Close\n",
    "    Volume\n",
    "    ProfitMargin\n",
    "    ReturnOnEquity\n",
    "    DividendShare\n",
    "    ReturnOnAssests\n",
    "    EpsCurrYear\n",
    "    PriceBook\n",
    "    FiftyTwoWeekHigh\n",
    "    FiftyTwoWeekLow "
   ]
  }
 ],
 "metadata": {
  "kernelspec": {
   "display_name": "Python 3",
   "language": "python",
   "name": "python3"
  },
  "language_info": {
   "codemirror_mode": {
    "name": "ipython",
    "version": 3
   },
   "file_extension": ".py",
   "mimetype": "text/x-python",
   "name": "python",
   "nbconvert_exporter": "python",
   "pygments_lexer": "ipython3",
   "version": "3.8.8"
  }
 },
 "nbformat": 4,
 "nbformat_minor": 5
}
